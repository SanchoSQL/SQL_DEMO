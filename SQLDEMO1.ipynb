{
 "cells": [
  {
   "cell_type": "markdown",
   "metadata": {},
   "source": [
    "# SQL DEMO\n",
    "\n",
    "A quick demo on how to perform SQL queries in Python and compare them to dataframe functions."
   ]
  },
  {
   "cell_type": "markdown",
   "metadata": {},
   "source": [
    "### Table of Contents\n",
    "\n",
    "#### 1. [Load Data](#LoadData)\n",
    "#### 2. [Analysis](#Analysis)\n",
    "#### 3. [Modeling](#Modeling)\n",
    "#### 4. [Evaluate](#Evaluate)"
   ]
  },
  {
   "cell_type": "markdown",
   "metadata": {},
   "source": [
    "## LoadData <a id='LoadData'></a>\n",
    "I'll use this dataset from Kaggle: [LINK](https://www.kaggle.com/datasets/leandrojnr/applestore-database). \n",
    "This example will use pandas to load data from csv to dataframes. "
   ]
  },
  {
   "cell_type": "markdown",
   "metadata": {},
   "source": [
    "### Import Python Libraries"
   ]
  },
  {
   "cell_type": "code",
   "execution_count": 71,
   "metadata": {},
   "outputs": [],
   "source": [
    "import pandas as pd\n",
    "import sqlite3"
   ]
  },
  {
   "cell_type": "markdown",
   "metadata": {},
   "source": [
    "### Create the DB connection\n",
    "You can use a temporary connection in memory to store data and practice.\n",
    "\n"
   ]
  },
  {
   "cell_type": "code",
   "execution_count": 72,
   "metadata": {},
   "outputs": [],
   "source": [
    "conn = sqlite3.connect(':memory:') \n",
    "cur = conn.cursor()"
   ]
  },
  {
   "cell_type": "markdown",
   "metadata": {},
   "source": [
    "### Define file location"
   ]
  },
  {
   "cell_type": "code",
   "execution_count": 73,
   "metadata": {},
   "outputs": [],
   "source": [
    "location = \"X:/DB/Apple Store Dataset\"\n",
    "input0 = f\"{location}/Copy of AppleStore.csv\"\n",
    "input1 = f\"{location}/Copy of appleStore_description1.csv\"\n",
    "input2 = f\"{location}/Copy of appleStore_description2.csv\"\n",
    "input3 = f\"{location}/Copy of appleStore_description3.csv\"\n",
    "input4 = f\"{location}/Copy of appleStore_description4.csv\""
   ]
  },
  {
   "cell_type": "markdown",
   "metadata": {},
   "source": [
    "### Use Pandas to read csv to dataframe"
   ]
  },
  {
   "cell_type": "code",
   "execution_count": 74,
   "metadata": {},
   "outputs": [],
   "source": [
    "apps = pd.read_csv(input0)\n",
    "df1 = pd.read_csv(input1)\n",
    "df2 = pd.read_csv(input2)\n",
    "df3 = pd.read_csv(input3)\n",
    "df4 = pd.read_csv(input4)"
   ]
  },
  {
   "cell_type": "markdown",
   "metadata": {},
   "source": [
    "### Union all description tables into 1 table "
   ]
  },
  {
   "cell_type": "code",
   "execution_count": 75,
   "metadata": {},
   "outputs": [],
   "source": [
    "df_desc = pd.concat([df1, df2, df3, df4], ignore_index=True)"
   ]
  },
  {
   "cell_type": "markdown",
   "metadata": {},
   "source": [
    "### Use to_sql command to create tables in the DB"
   ]
  },
  {
   "cell_type": "code",
   "execution_count": 76,
   "metadata": {},
   "outputs": [
    {
     "data": {
      "text/plain": [
       "2199"
      ]
     },
     "execution_count": 76,
     "metadata": {},
     "output_type": "execute_result"
    }
   ],
   "source": [
    "apps.to_sql(name='Apps', con=conn, if_exists='replace')\n",
    "df1.to_sql(name='descriptionfile1', con=conn, if_exists='replace')\n",
    "df2.to_sql(name='descriptionfile2', con=conn, if_exists='replace')\n",
    "df3.to_sql(name='descriptionfile3', con=conn, if_exists='replace')\n",
    "df4.to_sql(name='descriptionfile4', con=conn, if_exists='replace')"
   ]
  },
  {
   "cell_type": "markdown",
   "metadata": {},
   "source": [
    "## Analysis <a id='Analysis'></a>"
   ]
  },
  {
   "cell_type": "markdown",
   "metadata": {},
   "source": [
    "### Print the number of elements in the dfs"
   ]
  },
  {
   "cell_type": "code",
   "execution_count": 77,
   "metadata": {},
   "outputs": [
    {
     "name": "stdout",
     "output_type": "stream",
     "text": [
      "Apps Table Row Count: 7197\n",
      "Description Table Row Count: 7197\n"
     ]
    }
   ],
   "source": [
    "num_rows_apps = len(apps)\n",
    "print (f\"Apps Table Row Count: {num_rows_apps}\")\n",
    "\n",
    "num_rows_desc = len(df_desc)\n",
    "print (f\"Description Table Row Count: {num_rows_desc}\")"
   ]
  },
  {
   "cell_type": "markdown",
   "metadata": {},
   "source": [
    "### Print header and first 2 rows to view column names"
   ]
  },
  {
   "cell_type": "markdown",
   "metadata": {},
   "source": [
    "#### Apps df ex: "
   ]
  },
  {
   "cell_type": "code",
   "execution_count": 78,
   "metadata": {},
   "outputs": [
    {
     "name": "stdout",
     "output_type": "stream",
     "text": [
      "   Unnamed: 0         id                 track_name  size_bytes currency  \\\n",
      "0           1  281656475            PAC-MAN Premium   100788224      USD   \n",
      "1           2  281796108  Evernote - stay organized   158578688      USD   \n",
      "\n",
      "   price  rating_count_tot  rating_count_ver  user_rating  user_rating_ver  \\\n",
      "0   3.99             21292                26          4.0              4.5   \n",
      "1   0.00            161065                26          4.0              3.5   \n",
      "\n",
      "     ver cont_rating   prime_genre  sup_devices_num  ipadSc_urls_num  \\\n",
      "0  6.3.5          4+         Games               38                5   \n",
      "1  8.2.2          4+  Productivity               37                5   \n",
      "\n",
      "   lang_num  vpp_lic  \n",
      "0        10        1  \n",
      "1        23        1  \n"
     ]
    }
   ],
   "source": [
    "print(apps.head(2))"
   ]
  },
  {
   "cell_type": "markdown",
   "metadata": {},
   "source": [
    "#### Descriptions df ex: "
   ]
  },
  {
   "cell_type": "code",
   "execution_count": 79,
   "metadata": {},
   "outputs": [
    {
     "name": "stdout",
     "output_type": "stream",
     "text": [
      "          id                 track_name  size_bytes  \\\n",
      "0  281656475            PAC-MAN Premium   100788224   \n",
      "1  281796108  Evernote - stay organized   158578688   \n",
      "\n",
      "                                            app_desc  \n",
      "0  SAVE 20%. now only $3.99 for a limited time!\\n...  \n",
      "1  Let Evernote change the way you organize your ...  \n"
     ]
    }
   ],
   "source": [
    "print(df_desc.head(2))"
   ]
  },
  {
   "cell_type": "markdown",
   "metadata": {},
   "source": [
    "### Column names"
   ]
  },
  {
   "cell_type": "code",
   "execution_count": 80,
   "metadata": {},
   "outputs": [
    {
     "name": "stdout",
     "output_type": "stream",
     "text": [
      "Description DF Columns: ['id', 'track_name', 'size_bytes', 'app_desc']\n",
      "\n",
      "Apps DF Columns: ['Unnamed: 0', 'id', 'track_name', 'size_bytes', 'currency', 'price', 'rating_count_tot', 'rating_count_ver', 'user_rating', 'user_rating_ver', 'ver', 'cont_rating', 'prime_genre', 'sup_devices_num', 'ipadSc_urls_num', 'lang_num', 'vpp_lic']\n"
     ]
    }
   ],
   "source": [
    "print(f'Description DF Columns:',  df_desc.columns.tolist()) \n",
    "print('')\n",
    "print(f'Apps DF Columns:',  apps.columns.tolist())"
   ]
  },
  {
   "cell_type": "markdown",
   "metadata": {},
   "source": [
    "### Use this to see what dfs are in memory"
   ]
  },
  {
   "cell_type": "code",
   "execution_count": 81,
   "metadata": {},
   "outputs": [
    {
     "name": "stdout",
     "output_type": "stream",
     "text": [
      "Variable   Type         Data/Info\n",
      "---------------------------------\n",
      "apps       DataFrame          Unnamed: 0         <...>n[7197 rows x 17 columns]\n",
      "df1        DataFrame                 id          <...>\\n[1499 rows x 4 columns]\n",
      "df2        DataFrame                 id          <...>\\n[1499 rows x 4 columns]\n",
      "df3        DataFrame                  id         <...>\\n[2000 rows x 4 columns]\n",
      "df4        DataFrame                  id         <...>\\n[2199 rows x 4 columns]\n",
      "df_desc    DataFrame                  id         <...>\\n[7197 rows x 4 columns]\n"
     ]
    }
   ],
   "source": [
    "%whos DataFrame"
   ]
  },
  {
   "cell_type": "markdown",
   "metadata": {},
   "source": [
    "### SQL query to list all tables"
   ]
  },
  {
   "cell_type": "code",
   "execution_count": 82,
   "metadata": {},
   "outputs": [
    {
     "name": "stdout",
     "output_type": "stream",
     "text": [
      "[('Apps',), ('descriptionfile1',), ('descriptionfile2',), ('descriptionfile3',), ('descriptionfile4',)]\n"
     ]
    }
   ],
   "source": [
    "cur.execute(\"SELECT name FROM sqlite_master WHERE type='table';\")\n",
    "print(cur.fetchall())"
   ]
  },
  {
   "cell_type": "markdown",
   "metadata": {},
   "source": [
    "### Combine all description tables into 1 table SQL example:"
   ]
  },
  {
   "cell_type": "markdown",
   "metadata": {},
   "source": [
    "#### Print the count of combined description table"
   ]
  },
  {
   "cell_type": "markdown",
   "metadata": {},
   "source": [
    "+ cur.executescript is used to execute multiple lines os SQL\n",
    "+ cur.execute will only execute 1 block of sql code"
   ]
  },
  {
   "cell_type": "code",
   "execution_count": 83,
   "metadata": {},
   "outputs": [
    {
     "name": "stdout",
     "output_type": "stream",
     "text": [
      "Description File Table Count: [(7197,)]\n"
     ]
    }
   ],
   "source": [
    "cur.executescript(\"\"\"\n",
    "DROP TABLE IF EXISTS Descriptionfile;                 \n",
    "CREATE TABLE Descriptionfile AS \n",
    "                  SELECT * FROM descriptionfile1 \n",
    "                  UNION \n",
    "                  SELECT * FROM descriptionfile2\n",
    "                  UNION \n",
    "                  SELECT * FROM descriptionfile3\n",
    "                  UNION \n",
    "                  SELECT * FROM descriptionfile4\n",
    "                  ;\n",
    "\n",
    "DROP TABLE IF EXISTS Control_DESC;                 \n",
    "\n",
    "CREATE TABLE Control_DESC AS \n",
    "                 Select count(*) FROM Descriptionfile; \n",
    "\"\"\")\n",
    "\n",
    "sql_desc_count = cur.execute(\"SELECT * FROM Control_DESC\")\n",
    "sql_desc_count = cur.fetchall()\n",
    "print (f\"Description File Table Count: {sql_desc_count}\")"
   ]
  },
  {
   "cell_type": "markdown",
   "metadata": {},
   "source": [
    "#### Print the count of apps table"
   ]
  },
  {
   "cell_type": "code",
   "execution_count": 87,
   "metadata": {},
   "outputs": [
    {
     "name": "stdout",
     "output_type": "stream",
     "text": [
      "Apps File Table Count: [(7197,)]\n"
     ]
    }
   ],
   "source": [
    "sql_apps_count = cur.execute(\"SELECT count(*) FROM Apps\")\n",
    "print(f\"Apps File Table Count: {eval('cur.fetchall()')}\")\n"
   ]
  },
  {
   "cell_type": "markdown",
   "metadata": {},
   "source": [
    "### Print table columns:"
   ]
  },
  {
   "cell_type": "code",
   "execution_count": 97,
   "metadata": {},
   "outputs": [
    {
     "name": "stdout",
     "output_type": "stream",
     "text": [
      "Description SQL Table Columns: ['index', 'id', 'track_name', 'size_bytes', 'app_desc']\n",
      "\n",
      "APPS SQL Table Columns: ['index', 'Unnamed: 0', 'id', 'track_name', 'size_bytes', 'currency', 'price', 'rating_count_tot', 'rating_count_ver', 'user_rating', 'user_rating_ver', 'ver', 'cont_rating', 'prime_genre', 'sup_devices_num', 'ipadSc_urls_num', 'lang_num', 'vpp_lic']\n"
     ]
    }
   ],
   "source": [
    "cur.execute('SELECT * FROM Descriptionfile')\n",
    "sql_desc_cols = [description[0] for description in cur.description]\n",
    "print (f\"Description SQL Table Columns: {sql_desc_cols}\")\n",
    "print('')\n",
    "cur.execute('SELECT * FROM apps')\n",
    "sql_apps_cols = [description[0] for description in cur.description]\n",
    "print (f\"APPS SQL Table Columns: {sql_apps_cols}\")"
   ]
  },
  {
   "cell_type": "code",
   "execution_count": null,
   "metadata": {},
   "outputs": [],
   "source": [
    "# code"
   ]
  },
  {
   "cell_type": "markdown",
   "metadata": {},
   "source": [
    "## Modeling <a id='Modeling'></a>"
   ]
  },
  {
   "cell_type": "markdown",
   "metadata": {},
   "source": [
    "#### Table for Average Rating by Language"
   ]
  },
  {
   "cell_type": "code",
   "execution_count": 111,
   "metadata": {},
   "outputs": [
    {
     "data": {
      "text/plain": [
       "[('10-30 languages', 4.1305120910384066),\n",
       " ('<10 languages', 3.368327402135231),\n",
       " ('>30 languages', 3.7777777777777777)]"
      ]
     },
     "execution_count": 111,
     "metadata": {},
     "output_type": "execute_result"
    }
   ],
   "source": [
    "cur.execute(\"\"\"\n",
    "CREATE TABLE IF NOT EXISTS Language_Avg_Rating as \n",
    "    SELECT \n",
    "        CASE \n",
    "        WHEN lang_num < 10 THEN '<10 languages'\n",
    "        WHEN lang_num BETWEEN 10 and 30 THEN '10-30 languages'\n",
    "        ELSE '>30 languages'\n",
    "        END as language_ind,\n",
    "        avg(user_rating) as Average_Rating\n",
    "    FROM Apps\n",
    "    GROUP BY language_ind;\n",
    "\"\"\") \n",
    "cur.execute('SELECT * FROM Language_Avg_Rating')\n",
    "Language_Avg_Rating_DF = cur.fetchall()\n",
    "Language_Avg_Rating_DF\n",
    "#print (f\"Description File Table Count: {sql_desc_count}\")\n"
   ]
  },
  {
   "cell_type": "code",
   "execution_count": 11,
   "metadata": {},
   "outputs": [],
   "source": [
    "# code"
   ]
  },
  {
   "cell_type": "code",
   "execution_count": null,
   "metadata": {},
   "outputs": [],
   "source": [
    "# code"
   ]
  },
  {
   "cell_type": "code",
   "execution_count": null,
   "metadata": {},
   "outputs": [],
   "source": [
    "# code"
   ]
  },
  {
   "cell_type": "markdown",
   "metadata": {},
   "source": [
    "## Evaluate <a id='Evaluate'></a>"
   ]
  },
  {
   "cell_type": "code",
   "execution_count": null,
   "metadata": {},
   "outputs": [],
   "source": [
    "#code"
   ]
  },
  {
   "cell_type": "code",
   "execution_count": 16,
   "metadata": {},
   "outputs": [],
   "source": [
    "conn.close()"
   ]
  },
  {
   "cell_type": "code",
   "execution_count": null,
   "metadata": {},
   "outputs": [],
   "source": []
  }
 ],
 "metadata": {
  "kernelspec": {
   "display_name": "Python 3 (ipykernel)",
   "language": "python",
   "name": "python3"
  },
  "language_info": {
   "codemirror_mode": {
    "name": "ipython",
    "version": 3
   },
   "file_extension": ".py",
   "mimetype": "text/x-python",
   "name": "python",
   "nbconvert_exporter": "python",
   "pygments_lexer": "ipython3",
   "version": "3.12.0"
  }
 },
 "nbformat": 4,
 "nbformat_minor": 4
}
