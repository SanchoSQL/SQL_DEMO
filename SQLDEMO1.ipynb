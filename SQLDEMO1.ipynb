{
 "cells": [
  {
   "cell_type": "markdown",
   "metadata": {},
   "source": [
    "# SQL DEMO\n",
    "\n",
    "A quick demo on how to perform SQL queries in Python and compare them to dataframe functions."
   ]
  },
  {
   "cell_type": "markdown",
   "metadata": {},
   "source": [
    "### Table of Contents\n",
    "\n",
    "#### 1. [Load Data](#LoadData)\n",
    "#### 2. [Analysis](#Analysis)\n",
    "#### 3. [Modeling](#Modeling)\n",
    "#### 4. [Evaluate](#Evaluate)"
   ]
  },
  {
   "cell_type": "markdown",
   "metadata": {},
   "source": [
    "## LoadData <a id='LoadData'></a>\n",
    "I'll use this dataset from Kaggle: [LINK](https://www.kaggle.com/datasets/leandrojnr/applestore-database). \n",
    "This example will use pandas to load data from csv to dataframes. "
   ]
  },
  {
   "cell_type": "markdown",
   "metadata": {},
   "source": [
    "### Import Python Libraries"
   ]
  },
  {
   "cell_type": "code",
   "execution_count": 1,
   "metadata": {},
   "outputs": [],
   "source": [
    "import pandas as pd\n",
    "import sqlite3"
   ]
  },
  {
   "cell_type": "markdown",
   "metadata": {},
   "source": [
    "### Create the DB connection\n",
    "You can use a temporary connection in memory to store data and practice.\n",
    "\n"
   ]
  },
  {
   "cell_type": "code",
   "execution_count": 2,
   "metadata": {},
   "outputs": [],
   "source": [
    "conn = sqlite3.connect(':memory:') \n",
    "cur = conn.cursor()"
   ]
  },
  {
   "cell_type": "markdown",
   "metadata": {},
   "source": [
    "### Define file location"
   ]
  },
  {
   "cell_type": "code",
   "execution_count": 3,
   "metadata": {},
   "outputs": [],
   "source": [
    "location = \"X:/DB/Apple Store Dataset\"\n",
    "input0 = f\"{location}/Copy of AppleStore.csv\"\n",
    "input1 = f\"{location}/Copy of appleStore_description1.csv\"\n",
    "input2 = f\"{location}/Copy of appleStore_description2.csv\"\n",
    "input3 = f\"{location}/Copy of appleStore_description3.csv\"\n",
    "input4 = f\"{location}/Copy of appleStore_description4.csv\""
   ]
  },
  {
   "cell_type": "markdown",
   "metadata": {},
   "source": [
    "### Use Pandas to read csv to dataframe"
   ]
  },
  {
   "cell_type": "code",
   "execution_count": 4,
   "metadata": {},
   "outputs": [],
   "source": [
    "apps = pd.read_csv(input0)\n",
    "df1 = pd.read_csv(input1)\n",
    "df2 = pd.read_csv(input2)\n",
    "df3 = pd.read_csv(input3)\n",
    "df4 = pd.read_csv(input4)"
   ]
  },
  {
   "cell_type": "markdown",
   "metadata": {},
   "source": [
    "### Union all description tables into 1 table "
   ]
  },
  {
   "cell_type": "code",
   "execution_count": 5,
   "metadata": {},
   "outputs": [],
   "source": [
    "df_desc = pd.concat([df1, df2, df3, df4], ignore_index=True)"
   ]
  },
  {
   "cell_type": "markdown",
   "metadata": {},
   "source": [
    "### Use to_sql command to create tables in the DB"
   ]
  },
  {
   "cell_type": "code",
   "execution_count": 6,
   "metadata": {},
   "outputs": [
    {
     "data": {
      "text/plain": [
       "2199"
      ]
     },
     "execution_count": 6,
     "metadata": {},
     "output_type": "execute_result"
    }
   ],
   "source": [
    "apps.to_sql(name='Apps', con=conn, if_exists='replace')\n",
    "df1.to_sql(name='descriptionfile1', con=conn, if_exists='replace')\n",
    "df2.to_sql(name='descriptionfile2', con=conn, if_exists='replace')\n",
    "df3.to_sql(name='descriptionfile3', con=conn, if_exists='replace')\n",
    "df4.to_sql(name='descriptionfile4', con=conn, if_exists='replace')"
   ]
  },
  {
   "cell_type": "markdown",
   "metadata": {},
   "source": [
    "## Analysis <a id='Analysis'></a>"
   ]
  },
  {
   "cell_type": "markdown",
   "metadata": {},
   "source": [
    "### Print the number of elements in the dfs"
   ]
  },
  {
   "cell_type": "code",
   "execution_count": 7,
   "metadata": {},
   "outputs": [
    {
     "name": "stdout",
     "output_type": "stream",
     "text": [
      "Apps Table Row Count: 7197\n",
      "Description Table Row Count: 7197\n"
     ]
    }
   ],
   "source": [
    "num_rows_apps = len(apps)\n",
    "print (f\"Apps Table Row Count: {num_rows_apps}\")\n",
    "\n",
    "num_rows_desc = len(df_desc)\n",
    "print (f\"Description Table Row Count: {num_rows_desc}\")"
   ]
  },
  {
   "cell_type": "markdown",
   "metadata": {},
   "source": [
    "### Print header and first 2 rows to view column names"
   ]
  },
  {
   "cell_type": "markdown",
   "metadata": {},
   "source": [
    "#### Apps df ex: "
   ]
  },
  {
   "cell_type": "code",
   "execution_count": 8,
   "metadata": {},
   "outputs": [
    {
     "name": "stdout",
     "output_type": "stream",
     "text": [
      "   Unnamed: 0         id                 track_name  size_bytes currency  \\\n",
      "0           1  281656475            PAC-MAN Premium   100788224      USD   \n",
      "1           2  281796108  Evernote - stay organized   158578688      USD   \n",
      "\n",
      "   price  rating_count_tot  rating_count_ver  user_rating  user_rating_ver  \\\n",
      "0   3.99             21292                26          4.0              4.5   \n",
      "1   0.00            161065                26          4.0              3.5   \n",
      "\n",
      "     ver cont_rating   prime_genre  sup_devices_num  ipadSc_urls_num  \\\n",
      "0  6.3.5          4+         Games               38                5   \n",
      "1  8.2.2          4+  Productivity               37                5   \n",
      "\n",
      "   lang_num  vpp_lic  \n",
      "0        10        1  \n",
      "1        23        1  \n"
     ]
    }
   ],
   "source": [
    "print(apps.head(2))"
   ]
  },
  {
   "cell_type": "markdown",
   "metadata": {},
   "source": [
    "#### Descriptions df ex: "
   ]
  },
  {
   "cell_type": "code",
   "execution_count": 9,
   "metadata": {},
   "outputs": [
    {
     "name": "stdout",
     "output_type": "stream",
     "text": [
      "          id                 track_name  size_bytes  \\\n",
      "0  281656475            PAC-MAN Premium   100788224   \n",
      "1  281796108  Evernote - stay organized   158578688   \n",
      "\n",
      "                                            app_desc  \n",
      "0  SAVE 20%. now only $3.99 for a limited time!\\n...  \n",
      "1  Let Evernote change the way you organize your ...  \n"
     ]
    }
   ],
   "source": [
    "print(df_desc.head(2))"
   ]
  },
  {
   "cell_type": "markdown",
   "metadata": {},
   "source": [
    "### Column names"
   ]
  },
  {
   "cell_type": "code",
   "execution_count": 10,
   "metadata": {},
   "outputs": [
    {
     "name": "stdout",
     "output_type": "stream",
     "text": [
      "Description DF Columns: ['id', 'track_name', 'size_bytes', 'app_desc']\n",
      "\n",
      "Apps DF Columns: ['Unnamed: 0', 'id', 'track_name', 'size_bytes', 'currency', 'price', 'rating_count_tot', 'rating_count_ver', 'user_rating', 'user_rating_ver', 'ver', 'cont_rating', 'prime_genre', 'sup_devices_num', 'ipadSc_urls_num', 'lang_num', 'vpp_lic']\n"
     ]
    }
   ],
   "source": [
    "print(f'Description DF Columns:',  df_desc.columns.tolist()) \n",
    "print('')\n",
    "print(f'Apps DF Columns:',  apps.columns.tolist())"
   ]
  },
  {
   "cell_type": "markdown",
   "metadata": {},
   "source": [
    "### Use this to see what dfs are in memory"
   ]
  },
  {
   "cell_type": "code",
   "execution_count": 11,
   "metadata": {},
   "outputs": [
    {
     "name": "stdout",
     "output_type": "stream",
     "text": [
      "Variable   Type         Data/Info\n",
      "---------------------------------\n",
      "apps       DataFrame          Unnamed: 0         <...>n[7197 rows x 17 columns]\n",
      "df1        DataFrame                 id          <...>\\n[1499 rows x 4 columns]\n",
      "df2        DataFrame                 id          <...>\\n[1499 rows x 4 columns]\n",
      "df3        DataFrame                  id         <...>\\n[2000 rows x 4 columns]\n",
      "df4        DataFrame                  id         <...>\\n[2199 rows x 4 columns]\n",
      "df_desc    DataFrame                  id         <...>\\n[7197 rows x 4 columns]\n"
     ]
    }
   ],
   "source": [
    "%whos DataFrame"
   ]
  },
  {
   "cell_type": "markdown",
   "metadata": {},
   "source": [
    "### SQL query to list all tables"
   ]
  },
  {
   "cell_type": "code",
   "execution_count": 12,
   "metadata": {},
   "outputs": [
    {
     "name": "stdout",
     "output_type": "stream",
     "text": [
      "[('Apps',), ('descriptionfile1',), ('descriptionfile2',), ('descriptionfile3',), ('descriptionfile4',)]\n"
     ]
    }
   ],
   "source": [
    "cur.execute(\"SELECT name FROM sqlite_master WHERE type='table';\")\n",
    "print(cur.fetchall())"
   ]
  },
  {
   "cell_type": "markdown",
   "metadata": {},
   "source": [
    "### Combine all description tables into 1 table SQL example:"
   ]
  },
  {
   "cell_type": "markdown",
   "metadata": {},
   "source": [
    "#### Print the count of combined description table"
   ]
  },
  {
   "cell_type": "markdown",
   "metadata": {},
   "source": [
    "+ cur.executescript is used to execute multiple lines os SQL\n",
    "+ cur.execute will only execute 1 block of sql code"
   ]
  },
  {
   "cell_type": "code",
   "execution_count": 13,
   "metadata": {},
   "outputs": [
    {
     "name": "stdout",
     "output_type": "stream",
     "text": [
      "Description File Table Count: [(7197,)]\n"
     ]
    }
   ],
   "source": [
    "cur.executescript(\"\"\"\n",
    "DROP TABLE IF EXISTS Descriptionfile;                 \n",
    "CREATE TABLE Descriptionfile AS \n",
    "                  SELECT * FROM descriptionfile1 \n",
    "                  UNION \n",
    "                  SELECT * FROM descriptionfile2\n",
    "                  UNION \n",
    "                  SELECT * FROM descriptionfile3\n",
    "                  UNION \n",
    "                  SELECT * FROM descriptionfile4\n",
    "                  ;\n",
    "\n",
    "DROP TABLE IF EXISTS Control_DESC;                 \n",
    "\n",
    "CREATE TABLE Control_DESC AS \n",
    "                 Select count(*) FROM Descriptionfile; \n",
    "\"\"\")\n",
    "\n",
    "sql_desc_count = cur.execute(\"SELECT * FROM Control_DESC\")\n",
    "sql_desc_count = cur.fetchall()\n",
    "print (f\"Description File Table Count: {sql_desc_count}\")"
   ]
  },
  {
   "cell_type": "markdown",
   "metadata": {},
   "source": [
    "#### Print the count of apps table"
   ]
  },
  {
   "cell_type": "code",
   "execution_count": 14,
   "metadata": {},
   "outputs": [
    {
     "name": "stdout",
     "output_type": "stream",
     "text": [
      "Apps File Table Count: [(7197,)]\n"
     ]
    }
   ],
   "source": [
    "sql_apps_count = cur.execute(\"SELECT count(*) FROM Apps\")\n",
    "print(f\"Apps File Table Count: {eval('cur.fetchall()')}\")\n"
   ]
  },
  {
   "cell_type": "markdown",
   "metadata": {},
   "source": [
    "### Print table columns:"
   ]
  },
  {
   "cell_type": "code",
   "execution_count": 15,
   "metadata": {},
   "outputs": [
    {
     "name": "stdout",
     "output_type": "stream",
     "text": [
      "Description SQL Table Columns: ['index', 'id', 'track_name', 'size_bytes', 'app_desc']\n",
      "\n",
      "APPS SQL Table Columns: ['index', 'Unnamed: 0', 'id', 'track_name', 'size_bytes', 'currency', 'price', 'rating_count_tot', 'rating_count_ver', 'user_rating', 'user_rating_ver', 'ver', 'cont_rating', 'prime_genre', 'sup_devices_num', 'ipadSc_urls_num', 'lang_num', 'vpp_lic']\n"
     ]
    }
   ],
   "source": [
    "cur.execute('SELECT * FROM Descriptionfile')\n",
    "sql_desc_cols = [description[0] for description in cur.description]\n",
    "print (f\"Description SQL Table Columns: {sql_desc_cols}\")\n",
    "print('')\n",
    "cur.execute('SELECT * FROM apps')\n",
    "sql_apps_cols = [description[0] for description in cur.description]\n",
    "print (f\"APPS SQL Table Columns: {sql_apps_cols}\")"
   ]
  },
  {
   "cell_type": "markdown",
   "metadata": {},
   "source": [
    "## Modeling <a id='Modeling'></a>"
   ]
  },
  {
   "cell_type": "markdown",
   "metadata": {},
   "source": [
    "#### Create table to group by number of languages by avg rating"
   ]
  },
  {
   "cell_type": "code",
   "execution_count": 38,
   "metadata": {},
   "outputs": [
    {
     "name": "stdout",
     "output_type": "stream",
     "text": [
      "[('10-30 languages', 4.1305120910384066), ('<10 languages', 3.368327402135231), ('>30 languages', 3.7777777777777777)]\n"
     ]
    }
   ],
   "source": [
    "cur.execute(\"\"\"\n",
    "CREATE TABLE IF NOT EXISTS Language_Avg_Rating as \n",
    "    SELECT \n",
    "        CASE \n",
    "        WHEN lang_num < 10 THEN '<10 languages'\n",
    "        WHEN lang_num BETWEEN 10 and 30 THEN '10-30 languages'\n",
    "        ELSE '>30 languages'\n",
    "        END as language_ind,\n",
    "        avg(user_rating) as Average_Rating\n",
    "    FROM Apps\n",
    "    GROUP BY language_ind;   \n",
    "\"\"\") \n",
    "cur.execute('SELECT * FROM Language_Avg_Rating')\n",
    "Language_Avg_Rating_DF = cur.fetchall()\n",
    "print(Language_Avg_Rating_DF)"
   ]
  },
  {
   "cell_type": "markdown",
   "metadata": {},
   "source": [
    "#### Create table to show genres by avg rating"
   ]
  },
  {
   "cell_type": "code",
   "execution_count": 47,
   "metadata": {},
   "outputs": [
    {
     "data": {
      "text/plain": [
       "[('Book', 2.4776785714285716),\n",
       " ('Business', 3.745614035087719),\n",
       " ('Catalogs', 2.1),\n",
       " ('Education', 3.376379690949227),\n",
       " ('Entertainment', 3.2467289719626167),\n",
       " ('Finance', 2.4326923076923075),\n",
       " ('Food & Drink', 3.1825396825396823),\n",
       " ('Games', 3.6850077679958573),\n",
       " ('Health & Fitness', 3.7),\n",
       " ('Lifestyle', 2.8055555555555554),\n",
       " ('Medical', 3.369565217391304),\n",
       " ('Music', 3.9782608695652173),\n",
       " ('Navigation', 2.6847826086956523),\n",
       " ('News', 2.98),\n",
       " ('Photo & Video', 3.8008595988538683),\n",
       " ('Productivity', 4.00561797752809),\n",
       " ('Reference', 3.453125),\n",
       " ('Shopping', 3.540983606557377),\n",
       " ('Social Networking', 2.9850299401197606),\n",
       " ('Sports', 2.982456140350877),\n",
       " ('Travel', 3.376543209876543),\n",
       " ('Utilities', 3.278225806451613),\n",
       " ('Weather', 3.5972222222222223)]"
      ]
     },
     "execution_count": 47,
     "metadata": {},
     "output_type": "execute_result"
    }
   ],
   "source": [
    "cur.execute(\"\"\"\n",
    "CREATE TABLE IF NOT EXISTS Genre_Avg_Rating as   \n",
    "    SELECT \n",
    "        prime_genre,\n",
    "        avg(user_rating) as Average_Rating\n",
    "    FROM Apps\n",
    "    GROUP BY prime_genre\n",
    "    ;\n",
    "\"\"\") \n",
    "cur.execute('SELECT * FROM Genre_Avg_Rating')\n",
    "Genre_Avg_Rating_DF = cur.fetchall()\n",
    "Genre_Avg_Rating_DF"
   ]
  },
  {
   "cell_type": "markdown",
   "metadata": {},
   "source": [
    "#### Create table to show app counts by genre"
   ]
  },
  {
   "cell_type": "code",
   "execution_count": 48,
   "metadata": {},
   "outputs": [
    {
     "data": {
      "text/plain": [
       "[('Games', 3862),\n",
       " ('Entertainment', 535),\n",
       " ('Education', 453),\n",
       " ('Photo & Video', 349),\n",
       " ('Utilities', 248),\n",
       " ('Health & Fitness', 180),\n",
       " ('Productivity', 178),\n",
       " ('Social Networking', 167),\n",
       " ('Lifestyle', 144),\n",
       " ('Music', 138),\n",
       " ('Shopping', 122),\n",
       " ('Sports', 114),\n",
       " ('Book', 112),\n",
       " ('Finance', 104),\n",
       " ('Travel', 81),\n",
       " ('News', 75),\n",
       " ('Weather', 72),\n",
       " ('Reference', 64),\n",
       " ('Food & Drink', 63),\n",
       " ('Business', 57),\n",
       " ('Navigation', 46),\n",
       " ('Medical', 23),\n",
       " ('Catalogs', 10)]"
      ]
     },
     "execution_count": 48,
     "metadata": {},
     "output_type": "execute_result"
    }
   ],
   "source": [
    "cur.execute(\"\"\"\n",
    "CREATE TABLE IF NOT EXISTS AppsByGenre_Count as   \n",
    "SELECT prime_genre, count(*) as NumApps \n",
    "            FROM Apps\n",
    "            GROUP BY prime_genre\n",
    "            ORDER BY NumApps desc;\n",
    "\"\"\") \n",
    "cur.execute('SELECT * FROM AppsByGenre_count')\n",
    "AppsByGenre_Count_DF = cur.fetchall()\n",
    "AppsByGenre_Count_DF"
   ]
  },
  {
   "cell_type": "code",
   "execution_count": null,
   "metadata": {},
   "outputs": [],
   "source": [
    "# code"
   ]
  },
  {
   "cell_type": "markdown",
   "metadata": {},
   "source": [
    "## Evaluate <a id='Evaluate'></a>"
   ]
  },
  {
   "cell_type": "markdown",
   "metadata": {},
   "source": [
    "#### Rank function by user ratings and group by genre to find the top rated apps"
   ]
  },
  {
   "cell_type": "code",
   "execution_count": 50,
   "metadata": {},
   "outputs": [
    {
     "data": {
      "text/plain": [
       "[('Book', 'Color Therapy Adult Coloring Book for Adults', 5.0),\n",
       " ('Business',\n",
       "  'TurboScan™ Pro - document & receipt scanner: scan multiple pages and photos to PDF',\n",
       "  5.0),\n",
       " ('Catalogs', 'CPlus for Craigslist app - mobile classifieds', 5.0),\n",
       " ('Education', 'Elevate - Brain Training and Games', 5.0),\n",
       " ('Entertainment', 'Bruh-Button', 5.0),\n",
       " ('Finance', 'Credit Karma: Free Credit Scores, Reports & Alerts', 5.0),\n",
       " ('Food & Drink', \"Domino's Pizza USA\", 5.0),\n",
       " ('Games', 'Head Soccer', 5.0),\n",
       " ('Health & Fitness', 'Yoga Studio', 5.0),\n",
       " ('Lifestyle', 'ipsy - Makeup, subscription and beauty tips', 5.0),\n",
       " ('Medical', 'Blink Health', 5.0),\n",
       " ('Music', 'Tenuto', 5.0),\n",
       " ('Navigation',\n",
       "  'parkOmator – for Apple Watch meter expiration timer, notifications & GPS navigator to car location',\n",
       "  5.0),\n",
       " ('News', 'The Guardian', 5.0),\n",
       " ('Photo & Video', 'Pic Collage - Picture Editor & Photo Collage Maker', 5.0),\n",
       " ('Productivity', 'VPN Proxy Master - Unlimited WiFi security VPN', 5.0),\n",
       " ('Reference', 'Sky Guide: View Stars Night or Day', 5.0),\n",
       " ('Shopping', 'Zappos: shop shoes & clothes, fast free shipping', 5.0),\n",
       " ('Social Networking',\n",
       "  'We Heart It - Fashion, wallpapers, quotes, tattoos',\n",
       "  5.0),\n",
       " ('Sports', 'J23 - Jordan Release Dates and History', 5.0),\n",
       " ('Travel', 'Urlaubspiraten', 5.0),\n",
       " ('Utilities', 'Flashlight Ⓞ', 5.0),\n",
       " ('Weather',\n",
       "  'NOAA Hi-Def Radar Pro -  Storm Warnings, Hurricane Tracker & Weather Forecast',\n",
       "  5.0)]"
      ]
     },
     "execution_count": 50,
     "metadata": {},
     "output_type": "execute_result"
    }
   ],
   "source": [
    "cur.execute(\"\"\"\n",
    "CREATE TABLE IF NOT EXISTS RankedAppsByGenre as   \n",
    "        SELECT \n",
    "            prime_genre,\n",
    "            track_name,\n",
    "            user_rating\n",
    "        FROM (\n",
    "            SELECT\n",
    "                prime_genre,\n",
    "                track_name,\n",
    "                user_rating,\n",
    "                RANK() OVER(PARTITION BY prime_genre ORDER BY user_rating DESC, rating_count_tot desc) as rank\n",
    "            FROM Apps\n",
    "            ) as A\n",
    "        WHERE\n",
    "        A.rank = 1\n",
    "            \"\"\") \n",
    "cur.execute('SELECT * FROM RankedAppsByGenre')\n",
    "RankedAppsByGenre_DF = cur.fetchall()\n",
    "RankedAppsByGenre_DF"
   ]
  },
  {
   "cell_type": "code",
   "execution_count": 16,
   "metadata": {},
   "outputs": [],
   "source": [
    "### Close the connection"
   ]
  },
  {
   "cell_type": "code",
   "execution_count": 16,
   "metadata": {},
   "outputs": [],
   "source": [
    "conn.close()"
   ]
  }
 ],
 "metadata": {
  "kernelspec": {
   "display_name": "Python 3 (ipykernel)",
   "language": "python",
   "name": "python3"
  },
  "language_info": {
   "codemirror_mode": {
    "name": "ipython",
    "version": 3
   },
   "file_extension": ".py",
   "mimetype": "text/x-python",
   "name": "python",
   "nbconvert_exporter": "python",
   "pygments_lexer": "ipython3",
   "version": "3.12.0"
  }
 },
 "nbformat": 4,
 "nbformat_minor": 4
}
