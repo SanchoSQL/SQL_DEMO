{
 "cells": [
  {
   "cell_type": "code",
   "execution_count": 3,
   "metadata": {},
   "outputs": [],
   "source": [
    "import glob\n",
    "path = \"X:/DB/Apple Store Dataset\""
   ]
  },
  {
   "cell_type": "markdown",
   "metadata": {},
   "source": [
    "+ Get the list of csv files in the folder\n",
    "+ Create a list to store the file names\n",
    "+ Iterate over the csv files and add the names to the list\n"
   ]
  },
  {
   "cell_type": "code",
   "execution_count": 5,
   "metadata": {},
   "outputs": [
    {
     "name": "stdout",
     "output_type": "stream",
     "text": [
      "['X:/DB/Apple Store Dataset\\\\Copy of AppleStore.csv', 'X:/DB/Apple Store Dataset\\\\Copy of appleStore_description.csv', 'X:/DB/Apple Store Dataset\\\\Copy of appleStore_description1.csv', 'X:/DB/Apple Store Dataset\\\\Copy of appleStore_description2.csv', 'X:/DB/Apple Store Dataset\\\\Copy of appleStore_description3.csv', 'X:/DB/Apple Store Dataset\\\\Copy of appleStore_description4.csv']\n"
     ]
    }
   ],
   "source": [
    "csv_files = glob.glob(path + '/*.csv')\n",
    "file_names = []\n",
    "for csv_file in csv_files:\n",
    "    file_names.append(csv_file)\n",
    "print(file_names) "
   ]
  }
 ],
 "metadata": {
  "kernelspec": {
   "display_name": "stock_venv",
   "language": "python",
   "name": "python3"
  },
  "language_info": {
   "codemirror_mode": {
    "name": "ipython",
    "version": 3
   },
   "file_extension": ".py",
   "mimetype": "text/x-python",
   "name": "python",
   "nbconvert_exporter": "python",
   "pygments_lexer": "ipython3",
   "version": "3.12.0"
  }
 },
 "nbformat": 4,
 "nbformat_minor": 2
}
